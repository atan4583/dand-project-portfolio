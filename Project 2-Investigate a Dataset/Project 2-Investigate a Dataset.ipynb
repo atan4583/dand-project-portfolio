{
 "cells": [
  {
   "cell_type": "markdown",
   "metadata": {},
   "source": [
    "# ~ Project 2 ~\n",
    "\n",
    "# Investigate a Brazilain medical appointment dataset \n",
    "\n",
    "## Analysis report by Audrey Tan\n",
    " ___\n",
    " \n",
    "## Table of Contents\n",
    "<ul>\n",
    "<li><a href=\"#intro\">Introduction</a></li>\n",
    "<li><a href=\"#wrangling\">Data Wrangling</a></li>\n",
    "<li><a href=\"#eda\">Exploratory Data Analysis</a></li>\n",
    "<li><a href=\"#conclusions\">Conclusions</a></li>\n",
    "</ul>"
   ]
  },
  {
   "cell_type": "markdown",
   "metadata": {},
   "source": [
    "<a id='intro'></a>\n",
    "## Introduction\n",
    "\n",
    "> This [kaggle dataset](https://www.kaggle.com/joniarroba/noshowappointments) contains 100k medical appointments in\n",
    "Brazil and is focused on the question of whether or not patients show up for their appointments. Each row has a number of characteristics about the patient, such as:\n",
    "* ‘ScheduledDay’ is the date patient set up their appointment\n",
    "* ‘Neighborhood’ is the location of the hospital\n",
    "* ‘Scholarship’ indicates if the patient on Brasilian welfare program Bolsa Família.\n",
    "* 'No-show' indicates if the patient showed up for their appointment. **No** means **Presence**, and **Yes, Absence**\n",
    ">\n",
    ">\n",
    "> Other characteristics include if the patients suffered certain medical conditions (hypertension, handicap, diabetes and alcoholism) and received SMS reminders for their appointments. \n",
    "---\n",
    "> The goal for this project is to examine the data characteristics and deduce what are the major factors behind the no show of patients. The limited scope of this project invariably implies limited statistical tests were performed in producing this analysis report.   \n",
    ">\n",
    "---\n",
    "\n",
    "### <a href='#Q1'>Research Question 1 - generic factors impacting appointment attendance</a> \n",
    " * Influence of gender, age, SMS reminder on patients missing their appointments\n",
    "\n",
    "### <a href='#Q2'>Research Question 2 - social factors impacting appointment attendance</a>\n",
    " * Were welfare recipients more likely to keep their appointments?\n",
    " * Were patients with medical conditions more likely to keep their appointments? \n",
    "\n",
    "### <a href='#Q3'>Research Question 3 - geographical factor impacting appointment attendance</a>\n",
    " * What is the effect of hospital locations on patients keeping/missing their appointments?\n"
   ]
  },
  {
   "cell_type": "markdown",
   "metadata": {},
   "source": [
    "> ## import the required packages for the project"
   ]
  },
  {
   "cell_type": "code",
   "execution_count": 1,
   "metadata": {},
   "outputs": [],
   "source": [
    "# Import all the necessary libraries\n",
    "\n",
    "import pandas as pd\n",
    "import numpy as np\n",
    "import matplotlib.pyplot as plt\n",
    "import seaborn as sb\n",
    "\n",
    "%matplotlib inline"
   ]
  },
  {
   "cell_type": "markdown",
   "metadata": {},
   "source": [
    "<a id='wrangling'></a>\n",
    "## Data Wrangling\n",
    "\n",
    "> In this section of the report, I loaded the dataset, checked for cleanliness, and then trim and clean it for analysis.\n",
    "\n",
    "### General Properties\n",
    "#### Read in the dataset and looked for patterns of interest "
   ]
  },
  {
   "cell_type": "code",
   "execution_count": 2,
   "metadata": {},
   "outputs": [
    {
     "data": {
      "text/html": [
       "<div>\n",
       "<style scoped>\n",
       "    .dataframe tbody tr th:only-of-type {\n",
       "        vertical-align: middle;\n",
       "    }\n",
       "\n",
       "    .dataframe tbody tr th {\n",
       "        vertical-align: top;\n",
       "    }\n",
       "\n",
       "    .dataframe thead th {\n",
       "        text-align: right;\n",
       "    }\n",
       "</style>\n",
       "<table border=\"1\" class=\"dataframe\">\n",
       "  <thead>\n",
       "    <tr style=\"text-align: right;\">\n",
       "      <th></th>\n",
       "      <th>PatientId</th>\n",
       "      <th>AppointmentID</th>\n",
       "      <th>Gender</th>\n",
       "      <th>ScheduledDay</th>\n",
       "      <th>AppointmentDay</th>\n",
       "      <th>Age</th>\n",
       "      <th>Neighbourhood</th>\n",
       "      <th>Scholarship</th>\n",
       "      <th>Hipertension</th>\n",
       "      <th>Diabetes</th>\n",
       "      <th>Alcoholism</th>\n",
       "      <th>Handcap</th>\n",
       "      <th>SMS_received</th>\n",
       "      <th>No-show</th>\n",
       "    </tr>\n",
       "  </thead>\n",
       "  <tbody>\n",
       "    <tr>\n",
       "      <th>0</th>\n",
       "      <td>2.987250e+13</td>\n",
       "      <td>5642903</td>\n",
       "      <td>F</td>\n",
       "      <td>2016-04-29T18:38:08Z</td>\n",
       "      <td>2016-04-29T00:00:00Z</td>\n",
       "      <td>62</td>\n",
       "      <td>JARDIM DA PENHA</td>\n",
       "      <td>0</td>\n",
       "      <td>1</td>\n",
       "      <td>0</td>\n",
       "      <td>0</td>\n",
       "      <td>0</td>\n",
       "      <td>0</td>\n",
       "      <td>No</td>\n",
       "    </tr>\n",
       "    <tr>\n",
       "      <th>1</th>\n",
       "      <td>5.589978e+14</td>\n",
       "      <td>5642503</td>\n",
       "      <td>M</td>\n",
       "      <td>2016-04-29T16:08:27Z</td>\n",
       "      <td>2016-04-29T00:00:00Z</td>\n",
       "      <td>56</td>\n",
       "      <td>JARDIM DA PENHA</td>\n",
       "      <td>0</td>\n",
       "      <td>0</td>\n",
       "      <td>0</td>\n",
       "      <td>0</td>\n",
       "      <td>0</td>\n",
       "      <td>0</td>\n",
       "      <td>No</td>\n",
       "    </tr>\n",
       "  </tbody>\n",
       "</table>\n",
       "</div>"
      ],
      "text/plain": [
       "      PatientId  AppointmentID Gender          ScheduledDay  \\\n",
       "0  2.987250e+13        5642903      F  2016-04-29T18:38:08Z   \n",
       "1  5.589978e+14        5642503      M  2016-04-29T16:08:27Z   \n",
       "\n",
       "         AppointmentDay  Age    Neighbourhood  Scholarship  Hipertension  \\\n",
       "0  2016-04-29T00:00:00Z   62  JARDIM DA PENHA            0             1   \n",
       "1  2016-04-29T00:00:00Z   56  JARDIM DA PENHA            0             0   \n",
       "\n",
       "   Diabetes  Alcoholism  Handcap  SMS_received No-show  \n",
       "0         0           0        0             0      No  \n",
       "1         0           0        0             0      No  "
      ]
     },
     "execution_count": 2,
     "metadata": {},
     "output_type": "execute_result"
    }
   ],
   "source": [
    "# Load your data and print out a few lines. Perform operations to inspect data\n",
    "#   types and look for instances of missing or possibly errant data.\n",
    "df = pd.read_csv('noshowappointments-kagglev2-may-2016.csv')\n",
    "df.head(2)"
   ]
  },
  {
   "cell_type": "markdown",
   "metadata": {},
   "source": [
    "#### Rename some columns to improve readability"
   ]
  },
  {
   "cell_type": "code",
   "execution_count": 3,
   "metadata": {},
   "outputs": [],
   "source": [
    "df.rename(columns={'PatientId': 'PatId', 'AppointmentID':'ApptId', \n",
    "                   'ScheduledDay': 'SchdDay', 'AppointmentDay': 'ApptDay',\n",
    "                   'Neighbourhood': 'Locality', 'Scholarship':'OnWelfare',\n",
    "                   'Hipertension': 'Hypertension', 'Handcap': 'Handicap', \n",
    "                   'SMS_received':'SmsRmdr','No-show': 'NoShow'\n",
    "                  }, inplace=True)"
   ]
  },
  {
   "cell_type": "code",
   "execution_count": 4,
   "metadata": {},
   "outputs": [
    {
     "data": {
      "text/html": [
       "<div>\n",
       "<style scoped>\n",
       "    .dataframe tbody tr th:only-of-type {\n",
       "        vertical-align: middle;\n",
       "    }\n",
       "\n",
       "    .dataframe tbody tr th {\n",
       "        vertical-align: top;\n",
       "    }\n",
       "\n",
       "    .dataframe thead th {\n",
       "        text-align: right;\n",
       "    }\n",
       "</style>\n",
       "<table border=\"1\" class=\"dataframe\">\n",
       "  <thead>\n",
       "    <tr style=\"text-align: right;\">\n",
       "      <th></th>\n",
       "      <th>PatId</th>\n",
       "      <th>ApptId</th>\n",
       "      <th>Gender</th>\n",
       "      <th>SchdDay</th>\n",
       "      <th>ApptDay</th>\n",
       "      <th>Age</th>\n",
       "      <th>Locality</th>\n",
       "      <th>OnWelfare</th>\n",
       "      <th>Hypertension</th>\n",
       "      <th>Diabetes</th>\n",
       "      <th>Alcoholism</th>\n",
       "      <th>Handicap</th>\n",
       "      <th>SmsRmdr</th>\n",
       "      <th>NoShow</th>\n",
       "    </tr>\n",
       "  </thead>\n",
       "  <tbody>\n",
       "    <tr>\n",
       "      <th>0</th>\n",
       "      <td>2.987250e+13</td>\n",
       "      <td>5642903</td>\n",
       "      <td>F</td>\n",
       "      <td>2016-04-29T18:38:08Z</td>\n",
       "      <td>2016-04-29T00:00:00Z</td>\n",
       "      <td>62</td>\n",
       "      <td>JARDIM DA PENHA</td>\n",
       "      <td>0</td>\n",
       "      <td>1</td>\n",
       "      <td>0</td>\n",
       "      <td>0</td>\n",
       "      <td>0</td>\n",
       "      <td>0</td>\n",
       "      <td>No</td>\n",
       "    </tr>\n",
       "    <tr>\n",
       "      <th>1</th>\n",
       "      <td>5.589978e+14</td>\n",
       "      <td>5642503</td>\n",
       "      <td>M</td>\n",
       "      <td>2016-04-29T16:08:27Z</td>\n",
       "      <td>2016-04-29T00:00:00Z</td>\n",
       "      <td>56</td>\n",
       "      <td>JARDIM DA PENHA</td>\n",
       "      <td>0</td>\n",
       "      <td>0</td>\n",
       "      <td>0</td>\n",
       "      <td>0</td>\n",
       "      <td>0</td>\n",
       "      <td>0</td>\n",
       "      <td>No</td>\n",
       "    </tr>\n",
       "    <tr>\n",
       "      <th>2</th>\n",
       "      <td>4.262962e+12</td>\n",
       "      <td>5642549</td>\n",
       "      <td>F</td>\n",
       "      <td>2016-04-29T16:19:04Z</td>\n",
       "      <td>2016-04-29T00:00:00Z</td>\n",
       "      <td>62</td>\n",
       "      <td>MATA DA PRAIA</td>\n",
       "      <td>0</td>\n",
       "      <td>0</td>\n",
       "      <td>0</td>\n",
       "      <td>0</td>\n",
       "      <td>0</td>\n",
       "      <td>0</td>\n",
       "      <td>No</td>\n",
       "    </tr>\n",
       "    <tr>\n",
       "      <th>3</th>\n",
       "      <td>8.679512e+11</td>\n",
       "      <td>5642828</td>\n",
       "      <td>F</td>\n",
       "      <td>2016-04-29T17:29:31Z</td>\n",
       "      <td>2016-04-29T00:00:00Z</td>\n",
       "      <td>8</td>\n",
       "      <td>PONTAL DE CAMBURI</td>\n",
       "      <td>0</td>\n",
       "      <td>0</td>\n",
       "      <td>0</td>\n",
       "      <td>0</td>\n",
       "      <td>0</td>\n",
       "      <td>0</td>\n",
       "      <td>No</td>\n",
       "    </tr>\n",
       "    <tr>\n",
       "      <th>4</th>\n",
       "      <td>8.841186e+12</td>\n",
       "      <td>5642494</td>\n",
       "      <td>F</td>\n",
       "      <td>2016-04-29T16:07:23Z</td>\n",
       "      <td>2016-04-29T00:00:00Z</td>\n",
       "      <td>56</td>\n",
       "      <td>JARDIM DA PENHA</td>\n",
       "      <td>0</td>\n",
       "      <td>1</td>\n",
       "      <td>1</td>\n",
       "      <td>0</td>\n",
       "      <td>0</td>\n",
       "      <td>0</td>\n",
       "      <td>No</td>\n",
       "    </tr>\n",
       "  </tbody>\n",
       "</table>\n",
       "</div>"
      ],
      "text/plain": [
       "          PatId   ApptId Gender               SchdDay               ApptDay  \\\n",
       "0  2.987250e+13  5642903      F  2016-04-29T18:38:08Z  2016-04-29T00:00:00Z   \n",
       "1  5.589978e+14  5642503      M  2016-04-29T16:08:27Z  2016-04-29T00:00:00Z   \n",
       "2  4.262962e+12  5642549      F  2016-04-29T16:19:04Z  2016-04-29T00:00:00Z   \n",
       "3  8.679512e+11  5642828      F  2016-04-29T17:29:31Z  2016-04-29T00:00:00Z   \n",
       "4  8.841186e+12  5642494      F  2016-04-29T16:07:23Z  2016-04-29T00:00:00Z   \n",
       "\n",
       "   Age           Locality  OnWelfare  Hypertension  Diabetes  Alcoholism  \\\n",
       "0   62    JARDIM DA PENHA          0             1         0           0   \n",
       "1   56    JARDIM DA PENHA          0             0         0           0   \n",
       "2   62      MATA DA PRAIA          0             0         0           0   \n",
       "3    8  PONTAL DE CAMBURI          0             0         0           0   \n",
       "4   56    JARDIM DA PENHA          0             1         1           0   \n",
       "\n",
       "   Handicap  SmsRmdr NoShow  \n",
       "0         0        0     No  \n",
       "1         0        0     No  \n",
       "2         0        0     No  \n",
       "3         0        0     No  \n",
       "4         0        0     No  "
      ]
     },
     "execution_count": 4,
     "metadata": {},
     "output_type": "execute_result"
    }
   ],
   "source": [
    "df.head()"
   ]
  },
  {
   "cell_type": "markdown",
   "metadata": {},
   "source": [
    "These columns contain binary values:\n",
    ">\n",
    "> * OnWelfare - 0 or 1\n",
    "> * Hypertension - 0 or 1\n",
    "> * Diabetes - 0 or 1\n",
    "> * Alcoholism - 0 or 1\n",
    "> * SmsRmdr - 0 or 1\n",
    "> * NoShow - Yes or No\n",
    "\n",
    "\n",
    "#### Start looking for data patterns of interest from here"
   ]
  },
  {
   "cell_type": "code",
   "execution_count": 5,
   "metadata": {},
   "outputs": [
    {
     "name": "stdout",
     "output_type": "stream",
     "text": [
      "<class 'pandas.core.frame.DataFrame'>\n",
      "RangeIndex: 110527 entries, 0 to 110526\n",
      "Data columns (total 14 columns):\n",
      "PatId           110527 non-null float64\n",
      "ApptId          110527 non-null int64\n",
      "Gender          110527 non-null object\n",
      "SchdDay         110527 non-null object\n",
      "ApptDay         110527 non-null object\n",
      "Age             110527 non-null int64\n",
      "Locality        110527 non-null object\n",
      "OnWelfare       110527 non-null int64\n",
      "Hypertension    110527 non-null int64\n",
      "Diabetes        110527 non-null int64\n",
      "Alcoholism      110527 non-null int64\n",
      "Handicap        110527 non-null int64\n",
      "SmsRmdr         110527 non-null int64\n",
      "NoShow          110527 non-null object\n",
      "dtypes: float64(1), int64(8), object(5)\n",
      "memory usage: 11.8+ MB\n"
     ]
    }
   ],
   "source": [
    "# no missing data\n",
    "df.info()"
   ]
  },
  {
   "cell_type": "markdown",
   "metadata": {},
   "source": [
    "**Great!** All the columns in the dataset are not null, no missing value to worry about. \n",
    "\n",
    "The SchdDay and ApptDay column values need to be converted to real date values. Let's add them to the **To-Fix** list.\n",
    "\n",
    "> **To-Fix** list so far:\n",
    "> 1. convert SchdDay to YYYY-MM-DD\n",
    "> 2. convert ApptDay to YYYY-MM-DD\n",
    "\n",
    "**Next**, check unique value counts of all columns"
   ]
  },
  {
   "cell_type": "code",
   "execution_count": 6,
   "metadata": {},
   "outputs": [
    {
     "data": {
      "text/plain": [
       "PatId            62299\n",
       "ApptId          110527\n",
       "Gender               2\n",
       "SchdDay         103549\n",
       "ApptDay             27\n",
       "Age                104\n",
       "Locality            81\n",
       "OnWelfare            2\n",
       "Hypertension         2\n",
       "Diabetes             2\n",
       "Alcoholism           2\n",
       "Handicap             5\n",
       "SmsRmdr              2\n",
       "NoShow               2\n",
       "dtype: int64"
      ]
     },
     "execution_count": 6,
     "metadata": {},
     "output_type": "execute_result"
    }
   ],
   "source": [
    "df.nunique()"
   ]
  },
  {
   "cell_type": "markdown",
   "metadata": {},
   "source": [
    "**Check** if PatId can be converted from float to int without affecting data integrity"
   ]
  },
  {
   "cell_type": "code",
   "execution_count": 7,
   "metadata": {},
   "outputs": [
    {
     "data": {
      "text/plain": [
       "True"
      ]
     },
     "execution_count": 7,
     "metadata": {},
     "output_type": "execute_result"
    }
   ],
   "source": [
    "df.PatId.apply(int).nunique() == df.PatId.nunique()"
   ]
  },
  {
   "cell_type": "markdown",
   "metadata": {},
   "source": [
    "**Confirmed** float to int conversion wouldn't affect data values in PatId column. Add this to **To-Fix** list. \n",
    "\n",
    "> **To-Fix** list so far:\n",
    ">1. convert SchdDay to YYYY-MM-DD\n",
    ">2. convert ApptDay to YYYY-MM-DD\n",
    ">3. convert PatId from float to Int\n",
    "\n",
    "**Wait!** why does Handicap column have 5 unique values when it's supposed to have 0 or 1 values ? \n",
    "\n",
    "Let's check what other values are present in the column and add it to **to-fix** list"
   ]
  },
  {
   "cell_type": "code",
   "execution_count": 8,
   "metadata": {},
   "outputs": [
    {
     "data": {
      "text/plain": [
       "array([0, 1, 2, 3, 4])"
      ]
     },
     "execution_count": 8,
     "metadata": {},
     "output_type": "execute_result"
    }
   ],
   "source": [
    "df.Handicap.unique() "
   ]
  },
  {
   "cell_type": "markdown",
   "metadata": {},
   "source": [
    "> **To-Fix** list so far:\n",
    "> 1. convert SchdDay to YYYY-MM-DD\n",
    "> 2. convert ApptDay to YYYY-MM-DD\n",
    "> 3. convert PatId from float to Int\n",
    "> 4. convert Handicap values to 0 (no handicap) and 1 (handicap)\n",
    "\n",
    "**Next**, let's examine Age column values"
   ]
  },
  {
   "cell_type": "code",
   "execution_count": 9,
   "metadata": {},
   "outputs": [
    {
     "data": {
      "text/plain": [
       "count    110527.000000\n",
       "mean         37.088874\n",
       "std          23.110205\n",
       "min          -1.000000\n",
       "25%          18.000000\n",
       "50%          37.000000\n",
       "75%          55.000000\n",
       "max         115.000000\n",
       "Name: Age, dtype: float64"
      ]
     },
     "execution_count": 9,
     "metadata": {},
     "output_type": "execute_result"
    }
   ],
   "source": [
    "df.Age.describe()"
   ]
  },
  {
   "cell_type": "markdown",
   "metadata": {},
   "source": [
    "**Hmm...** The min. age is -1 and max, 115. Let's take a look to see if they can be excluded from the analysis without impacting the integrity of the dataset. "
   ]
  },
  {
   "cell_type": "code",
   "execution_count": 10,
   "metadata": {},
   "outputs": [
    {
     "data": {
      "text/plain": [
       "Age\n",
       "-1       1\n",
       " 0    3539\n",
       " 1    2273\n",
       " 2    1618\n",
       " 3    1513\n",
       "Name: PatId, dtype: int64"
      ]
     },
     "execution_count": 10,
     "metadata": {},
     "output_type": "execute_result"
    }
   ],
   "source": [
    "df.groupby('Age').count().PatId.head()"
   ]
  },
  {
   "cell_type": "code",
   "execution_count": 11,
   "metadata": {},
   "outputs": [
    {
     "data": {
      "text/plain": [
       "Age\n",
       "98     6\n",
       "99     1\n",
       "100    4\n",
       "102    2\n",
       "115    5\n",
       "Name: PatId, dtype: int64"
      ]
     },
     "execution_count": 11,
     "metadata": {},
     "output_type": "execute_result"
    }
   ],
   "source": [
    "df.groupby('Age').count().PatId.tail()"
   ]
  },
  {
   "cell_type": "markdown",
   "metadata": {},
   "source": [
    "**Let's confirm** the proportion of age -1 and over 99 in the dataset is small. "
   ]
  },
  {
   "cell_type": "code",
   "execution_count": 12,
   "metadata": {},
   "outputs": [
    {
     "data": {
      "text/plain": [
       "12"
      ]
     },
     "execution_count": 12,
     "metadata": {},
     "output_type": "execute_result"
    }
   ],
   "source": [
    "df.query('Age < 0 | Age >99').count().PatId # no. of rows = 12"
   ]
  },
  {
   "cell_type": "markdown",
   "metadata": {},
   "source": [
    "**Get a quick** visual on the age counts"
   ]
  },
  {
   "cell_type": "code",
   "execution_count": 13,
   "metadata": {},
   "outputs": [
    {
     "data": {
      "text/plain": [
       "array([  0,  10,  20,  30,  40,  50,  60,  70,  80,  90, 100, 110, 120])"
      ]
     },
     "execution_count": 13,
     "metadata": {},
     "output_type": "execute_result"
    }
   ],
   "source": [
    "# set xticks\n",
    "xticks = np.arange(0, df.Age.max()+10, 10)\n",
    "xticks"
   ]
  },
  {
   "cell_type": "code",
   "execution_count": 14,
   "metadata": {},
   "outputs": [
    {
     "data": {
      "image/png": "[encoded data removed]",
      "text/plain": [
       "<Figure size 432x288 with 1 Axes>"
      ]
     },
     "metadata": {
      "needs_background": "light"
     },
     "output_type": "display_data"
    }
   ],
   "source": [
    "# Histogram is better suited for age visualization here\n",
    "plt.hist(data=df, x='Age', bins = xticks)\n",
    "xtick_lbls = ['0','10','20','30','40','50','60','70','80','90','100','110','120']\n",
    "plt.xticks(xticks,xtick_lbls);"
   ]
  },
  {
   "cell_type": "markdown",
   "metadata": {},
   "source": [
    "**To be excluded** from the dataset: age -1 and over 99 \n",
    "\n",
    "> **To-Fix** list so far:\n",
    ">1. convert SchdDay to YYYY-MM-DD\n",
    ">2. convert ApptDay to YYYY-MM-DD\n",
    ">3. convert PatId from float to Int\n",
    ">4. convert Handicap values to 0 (no handicap) and 1 (handicap)\n",
    ">5. drop rows with Age -1 or > 99"
   ]
  },
  {
   "cell_type": "markdown",
   "metadata": {},
   "source": [
    "### Data Cleaning \n",
    "\n",
    "**Perform** data cleansing base on the **To-Fix** list assembled:\n",
    "\n",
    "> **To-Fix** list:\n",
    ">1. convert SchdDay to YYYY-MM-DD\n",
    ">2. convert ApptDay to YYYY-MM-DD\n",
    ">3. convert PatId from float to Int\n",
    ">4. convert Handicap values to 0 (no handicap) and 1 (handicap)\n",
    ">5. drop rows with Age -1 or > 99"
   ]
  },
  {
   "cell_type": "code",
   "execution_count": 15,
   "metadata": {},
   "outputs": [
    {
     "data": {
      "text/plain": [
       "0   2016-04-29 18:38:08\n",
       "1   2016-04-29 16:08:27\n",
       "2   2016-04-29 16:19:04\n",
       "3   2016-04-29 17:29:31\n",
       "4   2016-04-29 16:07:23\n",
       "Name: SchdDay, dtype: datetime64[ns]"
      ]
     },
     "execution_count": 15,
     "metadata": {},
     "output_type": "execute_result"
    }
   ],
   "source": [
    "# Step 1: convert SchdDay to real date in yyyy-mm-dd\n",
    "df.SchdDay = df.SchdDay.apply(np.datetime64) \n",
    "df.SchdDay.head()"
   ]
  },
  {
   "cell_type": "code",
   "execution_count": 16,
   "metadata": {},
   "outputs": [
    {
     "data": {
      "text/plain": [
       "0   2016-04-29\n",
       "1   2016-04-29\n",
       "2   2016-04-29\n",
       "3   2016-04-29\n",
       "4   2016-04-29\n",
       "Name: ApptDay, dtype: datetime64[ns]"
      ]
     },
     "execution_count": 16,
     "metadata": {},
     "output_type": "execute_result"
    }
   ],
   "source": [
    "# Step 2: convert ApptDay to real date in yyyy-mm-dd\n",
    "df.ApptDay = df.ApptDay.apply(np.datetime64) \n",
    "df.ApptDay.head()"
   ]
  },
  {
   "cell_type": "code",
   "execution_count": 17,
   "metadata": {},
   "outputs": [],
   "source": [
    "# Step 3 : convert PatId from float to Int\n",
    "df.PatId = df.PatId.apply(int)"
   ]
  },
  {
   "cell_type": "code",
   "execution_count": 18,
   "metadata": {},
   "outputs": [
    {
     "data": {
      "text/plain": [
       "True"
      ]
     },
     "execution_count": 18,
     "metadata": {},
     "output_type": "execute_result"
    }
   ],
   "source": [
    "# Step 4: re-map hadicap column values: 0 ->0 (no handicap) and 1,2,3,4 ->1 (handicap) \n",
    "df.Handicap = df.Handicap.apply(lambda x: 0 if x == 0 else 1)\n",
    "\n",
    "# no. of handicap + no. of not handicap should = df.Handicap.count()\n",
    "df.query('Handicap > 0').count().Handicap + df.query('Handicap == 0').count().Handicap == df.Handicap.count()"
   ]
  },
  {
   "cell_type": "code",
   "execution_count": 19,
   "metadata": {},
   "outputs": [
    {
     "data": {
      "text/plain": [
       "True"
      ]
     },
     "execution_count": 19,
     "metadata": {},
     "output_type": "execute_result"
    }
   ],
   "source": [
    "# subset of Age -1 or > 99 + subset Age >=0 & Age <= 99 = wholeset\n",
    "df.query('Age < 0 | Age > 99').count().PatId + df.query('Age >= 0 & Age <= 99').count().PatId == df.PatId.count()"
   ]
  },
  {
   "cell_type": "code",
   "execution_count": 20,
   "metadata": {},
   "outputs": [],
   "source": [
    "# Step 5: drop rows with Age -1 or > 99\n",
    "df.drop(df.query('Age < 0 | Age > 99').index, inplace=True)"
   ]
  },
  {
   "cell_type": "code",
   "execution_count": 21,
   "metadata": {},
   "outputs": [
    {
     "name": "stdout",
     "output_type": "stream",
     "text": [
      "<class 'pandas.core.frame.DataFrame'>\n",
      "Int64Index: 110515 entries, 0 to 110526\n",
      "Data columns (total 14 columns):\n",
      "PatId           110515 non-null int64\n",
      "ApptId          110515 non-null int64\n",
      "Gender          110515 non-null object\n",
      "SchdDay         110515 non-null datetime64[ns]\n",
      "ApptDay         110515 non-null datetime64[ns]\n",
      "Age             110515 non-null int64\n",
      "Locality        110515 non-null object\n",
      "OnWelfare       110515 non-null int64\n",
      "Hypertension    110515 non-null int64\n",
      "Diabetes        110515 non-null int64\n",
      "Alcoholism      110515 non-null int64\n",
      "Handicap        110515 non-null int64\n",
      "SmsRmdr         110515 non-null int64\n",
      "NoShow          110515 non-null object\n",
      "dtypes: datetime64[ns](2), int64(9), object(3)\n",
      "memory usage: 12.6+ MB\n"
     ]
    }
   ],
   "source": [
    "df.info()"
   ]
  },
  {
   "cell_type": "code",
   "execution_count": 22,
   "metadata": {},
   "outputs": [
    {
     "data": {
      "text/html": [
       "<div>\n",
       "<style scoped>\n",
       "    .dataframe tbody tr th:only-of-type {\n",
       "        vertical-align: middle;\n",
       "    }\n",
       "\n",
       "    .dataframe tbody tr th {\n",
       "        vertical-align: top;\n",
       "    }\n",
       "\n",
       "    .dataframe thead th {\n",
       "        text-align: right;\n",
       "    }\n",
       "</style>\n",
       "<table border=\"1\" class=\"dataframe\">\n",
       "  <thead>\n",
       "    <tr style=\"text-align: right;\">\n",
       "      <th></th>\n",
       "      <th>PatId</th>\n",
       "      <th>ApptId</th>\n",
       "      <th>Gender</th>\n",
       "      <th>SchdDay</th>\n",
       "      <th>ApptDay</th>\n",
       "      <th>Age</th>\n",
       "      <th>Locality</th>\n",
       "      <th>OnWelfare</th>\n",
       "      <th>Hypertension</th>\n",
       "      <th>Diabetes</th>\n",
       "      <th>Alcoholism</th>\n",
       "      <th>Handicap</th>\n",
       "      <th>SmsRmdr</th>\n",
       "      <th>NoShow</th>\n",
       "    </tr>\n",
       "  </thead>\n",
       "  <tbody>\n",
       "    <tr>\n",
       "      <th>0</th>\n",
       "      <td>29872499824296</td>\n",
       "      <td>5642903</td>\n",
       "      <td>F</td>\n",
       "      <td>2016-04-29 18:38:08</td>\n",
       "      <td>2016-04-29</td>\n",
       "      <td>62</td>\n",
       "      <td>JARDIM DA PENHA</td>\n",
       "      <td>0</td>\n",
       "      <td>1</td>\n",
       "      <td>0</td>\n",
       "      <td>0</td>\n",
       "      <td>0</td>\n",
       "      <td>0</td>\n",
       "      <td>No</td>\n",
       "    </tr>\n",
       "    <tr>\n",
       "      <th>1</th>\n",
       "      <td>558997776694438</td>\n",
       "      <td>5642503</td>\n",
       "      <td>M</td>\n",
       "      <td>2016-04-29 16:08:27</td>\n",
       "      <td>2016-04-29</td>\n",
       "      <td>56</td>\n",
       "      <td>JARDIM DA PENHA</td>\n",
       "      <td>0</td>\n",
       "      <td>0</td>\n",
       "      <td>0</td>\n",
       "      <td>0</td>\n",
       "      <td>0</td>\n",
       "      <td>0</td>\n",
       "      <td>No</td>\n",
       "    </tr>\n",
       "    <tr>\n",
       "      <th>2</th>\n",
       "      <td>4262962299951</td>\n",
       "      <td>5642549</td>\n",
       "      <td>F</td>\n",
       "      <td>2016-04-29 16:19:04</td>\n",
       "      <td>2016-04-29</td>\n",
       "      <td>62</td>\n",
       "      <td>MATA DA PRAIA</td>\n",
       "      <td>0</td>\n",
       "      <td>0</td>\n",
       "      <td>0</td>\n",
       "      <td>0</td>\n",
       "      <td>0</td>\n",
       "      <td>0</td>\n",
       "      <td>No</td>\n",
       "    </tr>\n",
       "    <tr>\n",
       "      <th>3</th>\n",
       "      <td>867951213174</td>\n",
       "      <td>5642828</td>\n",
       "      <td>F</td>\n",
       "      <td>2016-04-29 17:29:31</td>\n",
       "      <td>2016-04-29</td>\n",
       "      <td>8</td>\n",
       "      <td>PONTAL DE CAMBURI</td>\n",
       "      <td>0</td>\n",
       "      <td>0</td>\n",
       "      <td>0</td>\n",
       "      <td>0</td>\n",
       "      <td>0</td>\n",
       "      <td>0</td>\n",
       "      <td>No</td>\n",
       "    </tr>\n",
       "    <tr>\n",
       "      <th>4</th>\n",
       "      <td>8841186448183</td>\n",
       "      <td>5642494</td>\n",
       "      <td>F</td>\n",
       "      <td>2016-04-29 16:07:23</td>\n",
       "      <td>2016-04-29</td>\n",
       "      <td>56</td>\n",
       "      <td>JARDIM DA PENHA</td>\n",
       "      <td>0</td>\n",
       "      <td>1</td>\n",
       "      <td>1</td>\n",
       "      <td>0</td>\n",
       "      <td>0</td>\n",
       "      <td>0</td>\n",
       "      <td>No</td>\n",
       "    </tr>\n",
       "  </tbody>\n",
       "</table>\n",
       "</div>"
      ],
      "text/plain": [
       "             PatId   ApptId Gender             SchdDay    ApptDay  Age  \\\n",
       "0   29872499824296  5642903      F 2016-04-29 18:38:08 2016-04-29   62   \n",
       "1  558997776694438  5642503      M 2016-04-29 16:08:27 2016-04-29   56   \n",
       "2    4262962299951  5642549      F 2016-04-29 16:19:04 2016-04-29   62   \n",
       "3     867951213174  5642828      F 2016-04-29 17:29:31 2016-04-29    8   \n",
       "4    8841186448183  5642494      F 2016-04-29 16:07:23 2016-04-29   56   \n",
       "\n",
       "            Locality  OnWelfare  Hypertension  Diabetes  Alcoholism  Handicap  \\\n",
       "0    JARDIM DA PENHA          0             1         0           0         0   \n",
       "1    JARDIM DA PENHA          0             0         0           0         0   \n",
       "2      MATA DA PRAIA          0             0         0           0         0   \n",
       "3  PONTAL DE CAMBURI          0             0         0           0         0   \n",
       "4    JARDIM DA PENHA          0             1         1           0         0   \n",
       "\n",
       "   SmsRmdr NoShow  \n",
       "0        0     No  \n",
       "1        0     No  \n",
       "2        0     No  \n",
       "3        0     No  \n",
       "4        0     No  "
      ]
     },
     "execution_count": 22,
     "metadata": {},
     "output_type": "execute_result"
    }
   ],
   "source": [
    "# Quick check after cleansing the dataset\n",
    "df.head()"
   ]
  },
  {
   "cell_type": "markdown",
   "metadata": {},
   "source": [
    "<a id='eda'></a>\n",
    "## Exploratory Data Analysis\n",
    "\n",
    "> ### <a href='#Q1'>Research Question 1 - generic factors impacting appointment attendance</a> \n",
    "> * Influence of gender, age, SMS reminder on patients missing their appointments\n",
    ">\n",
    "> ### <a href='#Q2'>Research Question 2 - social factors impacting appointment attendance</a>\n",
    "> * Were welfare recipients more likely to keep their appointments?\n",
    "> * Were patients with medical conditions more likely to keep their appointments? \n",
    ">\n",
    "> ### <a href='#Q3'>Research Question 3 - geographical factor impacting appointment attendance</a>\n",
    "> * What is the effect of hospital locations on patients keeping/missing their appointments?\n",
    "\n"
   ]
  },
  {
   "cell_type": "markdown",
   "metadata": {},
   "source": [
    "<a id='Q1'></a>\n",
    "### Research Question 1 - generic factors impacting appointment attendance\n",
    "* Influence of gender, age, SMS reminder on patients missing their appointments\n"
   ]
  },
  {
   "cell_type": "markdown",
   "metadata": {},
   "source": [
    "#### Check gender influence on no show probability and present the conclusion with a plot"
   ]
  },
  {
   "cell_type": "code",
   "execution_count": 23,
   "metadata": {},
   "outputs": [
    {
     "data": {
      "text/html": [
       "<div>\n",
       "<style scoped>\n",
       "    .dataframe tbody tr th:only-of-type {\n",
       "        vertical-align: middle;\n",
       "    }\n",
       "\n",
       "    .dataframe tbody tr th {\n",
       "        vertical-align: top;\n",
       "    }\n",
       "\n",
       "    .dataframe thead th {\n",
       "        text-align: right;\n",
       "    }\n",
       "</style>\n",
       "<table border=\"1\" class=\"dataframe\">\n",
       "  <thead>\n",
       "    <tr style=\"text-align: right;\">\n",
       "      <th></th>\n",
       "      <th></th>\n",
       "      <th>genderPct</th>\n",
       "    </tr>\n",
       "    <tr>\n",
       "      <th>Gender</th>\n",
       "      <th>NoShow</th>\n",
       "      <th></th>\n",
       "    </tr>\n",
       "  </thead>\n",
       "  <tbody>\n",
       "    <tr>\n",
       "      <th rowspan=\"2\" valign=\"top\">F</th>\n",
       "      <th>No</th>\n",
       "      <td>0.796868</td>\n",
       "    </tr>\n",
       "    <tr>\n",
       "      <th>Yes</th>\n",
       "      <td>0.203132</td>\n",
       "    </tr>\n",
       "    <tr>\n",
       "      <th rowspan=\"2\" valign=\"top\">M</th>\n",
       "      <th>No</th>\n",
       "      <td>0.800310</td>\n",
       "    </tr>\n",
       "    <tr>\n",
       "      <th>Yes</th>\n",
       "      <td>0.199690</td>\n",
       "    </tr>\n",
       "  </tbody>\n",
       "</table>\n",
       "</div>"
      ],
      "text/plain": [
       "               genderPct\n",
       "Gender NoShow           \n",
       "F      No       0.796868\n",
       "       Yes      0.203132\n",
       "M      No       0.800310\n",
       "       Yes      0.199690"
      ]
     },
     "execution_count": 23,
     "metadata": {},
     "output_type": "execute_result"
    }
   ],
   "source": [
    "cntsx = df.groupby(['Gender','NoShow']).count().PatId\n",
    "tcntsx = df.groupby(['Gender']).count().NoShow\n",
    "dfsxpct = pd.DataFrame(data = cntsx/tcntsx, columns=['genderPct'])\n",
    "dfsxpct"
   ]
  },
  {
   "cell_type": "code",
   "execution_count": 24,
   "metadata": {},
   "outputs": [
    {
     "data": {
      "text/html": [
       "<div>\n",
       "<style scoped>\n",
       "    .dataframe tbody tr th:only-of-type {\n",
       "        vertical-align: middle;\n",
       "    }\n",
       "\n",
       "    .dataframe tbody tr th {\n",
       "        vertical-align: top;\n",
       "    }\n",
       "\n",
       "    .dataframe thead th {\n",
       "        text-align: right;\n",
       "    }\n",
       "</style>\n",
       "<table border=\"1\" class=\"dataframe\">\n",
       "  <thead>\n",
       "    <tr style=\"text-align: right;\">\n",
       "      <th></th>\n",
       "      <th>Gender</th>\n",
       "      <th>NoShow</th>\n",
       "      <th>genderPct</th>\n",
       "    </tr>\n",
       "  </thead>\n",
       "  <tbody>\n",
       "    <tr>\n",
       "      <th>0</th>\n",
       "      <td>F</td>\n",
       "      <td>No</td>\n",
       "      <td>0.796868</td>\n",
       "    </tr>\n",
       "    <tr>\n",
       "      <th>1</th>\n",
       "      <td>F</td>\n",
       "      <td>Yes</td>\n",
       "      <td>0.203132</td>\n",
       "    </tr>\n",
       "    <tr>\n",
       "      <th>2</th>\n",
       "      <td>M</td>\n",
       "      <td>No</td>\n",
       "      <td>0.800310</td>\n",
       "    </tr>\n",
       "    <tr>\n",
       "      <th>3</th>\n",
       "      <td>M</td>\n",
       "      <td>Yes</td>\n",
       "      <td>0.199690</td>\n",
       "    </tr>\n",
       "  </tbody>\n",
       "</table>\n",
       "</div>"
      ],
      "text/plain": [
       "  Gender NoShow  genderPct\n",
       "0      F     No   0.796868\n",
       "1      F    Yes   0.203132\n",
       "2      M     No   0.800310\n",
       "3      M    Yes   0.199690"
      ]
     },
     "execution_count": 24,
     "metadata": {},
     "output_type": "execute_result"
    }
   ],
   "source": [
    "dfsxpct = dfsxpct.reset_index()\n",
    "dfsxpct"
   ]
  },
  {
   "cell_type": "code",
   "execution_count": 25,
   "metadata": {},
   "outputs": [
    {
     "data": {
      "image/png": "[encoded data removed]",
      "text/plain": [
       "<Figure size 432x288 with 1 Axes>"
      ]
     },
     "metadata": {
      "needs_background": "light"
     },
     "output_type": "display_data"
    }
   ],
   "source": [
    "sb.barplot(x=\"Gender\", y=\"genderPct\", hue=\"NoShow\", data=dfsxpct)\n",
    "plt.ylim(0.0, 1.0)\n",
    "plt.title('Gender Attendance Probability')\n",
    "plt.xlabel('Gender')\n",
    "plt.ylabel('Probability');"
   ]
  },
  {
   "cell_type": "markdown",
   "metadata": {},
   "source": [
    "#### Conclusion of Gender impact on attendance : \n",
    "\n",
    "> The graph shows no marked difference between the genders on keeping/missing appointments, indicating gender appears to be a neutral factor in influencing attendance probability\n",
    "\n",
    "**Next**: check on age\n",
    "\n",
    "#### Define a function to calculate probability of a group's no show"
   ]
  },
  {
   "cell_type": "code",
   "execution_count": 26,
   "metadata": {},
   "outputs": [],
   "source": [
    "def NoShow_Prob(df, col):\n",
    "    df = pd.crosstab(index=df[col], columns=df.NoShow).reset_index()\n",
    "    df['Prob'] = df.No/(df.No + df.Yes)\n",
    "    #print('df[[col,\"Prob\"]]:',df[[col,'Prob']])\n",
    "    return df[[col,'Prob']]"
   ]
  },
  {
   "cell_type": "code",
   "execution_count": 27,
   "metadata": {},
   "outputs": [
    {
     "data": {
      "text/html": [
       "<div>\n",
       "<style scoped>\n",
       "    .dataframe tbody tr th:only-of-type {\n",
       "        vertical-align: middle;\n",
       "    }\n",
       "\n",
       "    .dataframe tbody tr th {\n",
       "        vertical-align: top;\n",
       "    }\n",
       "\n",
       "    .dataframe thead th {\n",
       "        text-align: right;\n",
       "    }\n",
       "</style>\n",
       "<table border=\"1\" class=\"dataframe\">\n",
       "  <thead>\n",
       "    <tr style=\"text-align: right;\">\n",
       "      <th>NoShow</th>\n",
       "      <th>Age</th>\n",
       "      <th>Prob</th>\n",
       "    </tr>\n",
       "  </thead>\n",
       "  <tbody>\n",
       "    <tr>\n",
       "      <th>0</th>\n",
       "      <td>0</td>\n",
       "      <td>0.819441</td>\n",
       "    </tr>\n",
       "    <tr>\n",
       "      <th>1</th>\n",
       "      <td>1</td>\n",
       "      <td>0.817422</td>\n",
       "    </tr>\n",
       "    <tr>\n",
       "      <th>2</th>\n",
       "      <td>2</td>\n",
       "      <td>0.844252</td>\n",
       "    </tr>\n",
       "    <tr>\n",
       "      <th>3</th>\n",
       "      <td>3</td>\n",
       "      <td>0.816920</td>\n",
       "    </tr>\n",
       "    <tr>\n",
       "      <th>4</th>\n",
       "      <td>4</td>\n",
       "      <td>0.782910</td>\n",
       "    </tr>\n",
       "  </tbody>\n",
       "</table>\n",
       "</div>"
      ],
      "text/plain": [
       "NoShow  Age      Prob\n",
       "0         0  0.819441\n",
       "1         1  0.817422\n",
       "2         2  0.844252\n",
       "3         3  0.816920\n",
       "4         4  0.782910"
      ]
     },
     "execution_count": 27,
     "metadata": {},
     "output_type": "execute_result"
    }
   ],
   "source": [
    "dfa=NoShow_Prob(df, 'Age')\n",
    "dfa.head(5)"
   ]
  },
  {
   "cell_type": "code",
   "execution_count": 28,
   "metadata": {},
   "outputs": [
    {
     "data": {
      "image/png": "[encoded data removed]",
      "text/plain": [
       "<Figure size 432x288 with 1 Axes>"
      ]
     },
     "metadata": {
      "needs_background": "light"
     },
     "output_type": "display_data"
    }
   ],
   "source": [
    "sb.regplot(dfa.Age, dfa.Prob)\n",
    "s = '''These data points \n",
    "break the general \n",
    "trend line'''\n",
    "plt.annotate(s, fontsize=9, xy=(26,0.74), xytext=(50,0.74), arrowprops=dict(arrowstyle='-|>'), color='r');\n",
    "plt.xlabel('Age')\n",
    "plt.ylabel('Probability')\n",
    "plt.title('Age Attendance Probability');"
   ]
  },
  {
   "cell_type": "markdown",
   "metadata": {},
   "source": [
    "#### Conclusion of Age impact on attendance\n",
    "\n",
    "> The general trend for attendance is trending upward with age. However, ages between 15 and 25 have lowest attendance rates below the regression line. Attendance rates start to rise above regression line from around age 47 till 80. From there, attendance rates start to drop below regression line from age 80 till 100."
   ]
  },
  {
   "cell_type": "code",
   "execution_count": 29,
   "metadata": {},
   "outputs": [],
   "source": [
    "def CondNoShowProb(df,cond,ind):\n",
    "    p = df[df[cond] == ind].NoShow.value_counts()/df[df[cond] == ind].NoShow.value_counts().sum()\n",
    "    return p"
   ]
  },
  {
   "cell_type": "code",
   "execution_count": 30,
   "metadata": {},
   "outputs": [
    {
     "data": {
      "text/plain": [
       "No     0.724239\n",
       "Yes    0.275761\n",
       "Name: NoShow, dtype: float64"
      ]
     },
     "execution_count": 30,
     "metadata": {},
     "output_type": "execute_result"
    }
   ],
   "source": [
    "smP = CondNoShowProb(df,'SmsRmdr',1)\n",
    "smP"
   ]
  },
  {
   "cell_type": "code",
   "execution_count": 31,
   "metadata": {},
   "outputs": [
    {
     "data": {
      "text/plain": [
       "No     0.832985\n",
       "Yes    0.167015\n",
       "Name: NoShow, dtype: float64"
      ]
     },
     "execution_count": 31,
     "metadata": {},
     "output_type": "execute_result"
    }
   ],
   "source": [
    "smPx = CondNoShowProb(df,'SmsRmdr',0)\n",
    "smPx"
   ]
  },
  {
   "cell_type": "code",
   "execution_count": 32,
   "metadata": {},
   "outputs": [
    {
     "data": {
      "text/html": [
       "<div>\n",
       "<style scoped>\n",
       "    .dataframe tbody tr th:only-of-type {\n",
       "        vertical-align: middle;\n",
       "    }\n",
       "\n",
       "    .dataframe tbody tr th {\n",
       "        vertical-align: top;\n",
       "    }\n",
       "\n",
       "    .dataframe thead th {\n",
       "        text-align: right;\n",
       "    }\n",
       "</style>\n",
       "<table border=\"1\" class=\"dataframe\">\n",
       "  <thead>\n",
       "    <tr style=\"text-align: right;\">\n",
       "      <th></th>\n",
       "      <th>No</th>\n",
       "      <th>Yes</th>\n",
       "    </tr>\n",
       "  </thead>\n",
       "  <tbody>\n",
       "    <tr>\n",
       "      <th>SMS</th>\n",
       "      <td>0.724239</td>\n",
       "      <td>0.275761</td>\n",
       "    </tr>\n",
       "    <tr>\n",
       "      <th>No SMS</th>\n",
       "      <td>0.832985</td>\n",
       "      <td>0.167015</td>\n",
       "    </tr>\n",
       "  </tbody>\n",
       "</table>\n",
       "</div>"
      ],
      "text/plain": [
       "              No       Yes\n",
       "SMS     0.724239  0.275761\n",
       "No SMS  0.832985  0.167015"
      ]
     },
     "execution_count": 32,
     "metadata": {},
     "output_type": "execute_result"
    }
   ],
   "source": [
    "dff = pd.DataFrame([smP,smPx],\n",
    "                   index=['SMS','No SMS'])\n",
    "dff"
   ]
  },
  {
   "cell_type": "code",
   "execution_count": 33,
   "metadata": {},
   "outputs": [
    {
     "data": {
      "image/png": "[encoded data removed]",
      "text/plain": [
       "<Figure size 432x288 with 1 Axes>"
      ]
     },
     "metadata": {
      "needs_background": "light"
     },
     "output_type": "display_data"
    }
   ],
   "source": [
    "dff.plot.barh()\n",
    "plt.xlim(0.0, 1.0)\n",
    "plt.title('SMS Reminder on Attendance Probability')\n",
    "plt.xlabel(\"Probability\")\n",
    "plt.ylabel(\"Reminder\")\n",
    "plt.legend(['Show','No Show']);"
   ]
  },
  {
   "cell_type": "markdown",
   "metadata": {},
   "source": [
    "#### Conclusion of SMS Reminder impact on attendance\n",
    "\n",
    "> The graph shows SMS reminder appears not to be a significant influence on attendance among patients who kept their appointments. However, in the group who missed their appointments, recipients of SMS reminders were roughly twice as likely to be a no show than those in the same group that didn't get SMS reminders. **This is a pretty interesting trend!**"
   ]
  },
  {
   "cell_type": "code",
   "execution_count": null,
   "metadata": {},
   "outputs": [],
   "source": []
  },
  {
   "cell_type": "markdown",
   "metadata": {},
   "source": [
    "<a id='Q2'></a>\n",
    "### Research Question 2  - social factors impacting appointment attendance\n",
    " * Were welfare recipients more likely to keep their appointments?\n",
    " * Were patients with medical conditions more likely to keep their appointments?"
   ]
  },
  {
   "cell_type": "code",
   "execution_count": 34,
   "metadata": {},
   "outputs": [
    {
     "data": {
      "text/plain": [
       "No     0.762637\n",
       "Yes    0.237363\n",
       "Name: NoShow, dtype: float64"
      ]
     },
     "execution_count": 34,
     "metadata": {},
     "output_type": "execute_result"
    }
   ],
   "source": [
    "wfP = CondNoShowProb(df,'OnWelfare',1)\n",
    "wfP"
   ]
  },
  {
   "cell_type": "code",
   "execution_count": 35,
   "metadata": {},
   "outputs": [
    {
     "data": {
      "text/plain": [
       "No     0.801935\n",
       "Yes    0.198065\n",
       "Name: NoShow, dtype: float64"
      ]
     },
     "execution_count": 35,
     "metadata": {},
     "output_type": "execute_result"
    }
   ],
   "source": [
    "wfPx = CondNoShowProb(df,'OnWelfare',0)\n",
    "wfPx"
   ]
  },
  {
   "cell_type": "code",
   "execution_count": 36,
   "metadata": {},
   "outputs": [
    {
     "data": {
      "text/html": [
       "<div>\n",
       "<style scoped>\n",
       "    .dataframe tbody tr th:only-of-type {\n",
       "        vertical-align: middle;\n",
       "    }\n",
       "\n",
       "    .dataframe tbody tr th {\n",
       "        vertical-align: top;\n",
       "    }\n",
       "\n",
       "    .dataframe thead th {\n",
       "        text-align: right;\n",
       "    }\n",
       "</style>\n",
       "<table border=\"1\" class=\"dataframe\">\n",
       "  <thead>\n",
       "    <tr style=\"text-align: right;\">\n",
       "      <th></th>\n",
       "      <th>No</th>\n",
       "      <th>Yes</th>\n",
       "    </tr>\n",
       "  </thead>\n",
       "  <tbody>\n",
       "    <tr>\n",
       "      <th>On</th>\n",
       "      <td>0.762637</td>\n",
       "      <td>0.237363</td>\n",
       "    </tr>\n",
       "    <tr>\n",
       "      <th>Off</th>\n",
       "      <td>0.801935</td>\n",
       "      <td>0.198065</td>\n",
       "    </tr>\n",
       "  </tbody>\n",
       "</table>\n",
       "</div>"
      ],
      "text/plain": [
       "           No       Yes\n",
       "On   0.762637  0.237363\n",
       "Off  0.801935  0.198065"
      ]
     },
     "execution_count": 36,
     "metadata": {},
     "output_type": "execute_result"
    }
   ],
   "source": [
    "dff = pd.DataFrame([wfP,wfPx],\n",
    "                   index=['On','Off'])\n",
    "dff"
   ]
  },
  {
   "cell_type": "code",
   "execution_count": 37,
   "metadata": {},
   "outputs": [
    {
     "data": {
      "image/png": "[encoded data removed]",
      "text/plain": [
       "<Figure size 432x288 with 1 Axes>"
      ]
     },
     "metadata": {
      "needs_background": "light"
     },
     "output_type": "display_data"
    }
   ],
   "source": [
    "dff.plot.barh()\n",
    "plt.xlim(0.0, 1.0)\n",
    "plt.title('Welfare award on Attendance Probability')\n",
    "plt.xlabel(\"Probability\")\n",
    "plt.ylabel(\"Welfare\")\n",
    "plt.legend(['Show','No Show']);"
   ]
  },
  {
   "cell_type": "markdown",
   "metadata": {},
   "source": [
    "#### Conclusion of Welfare impact on attendance\n",
    "\n",
    "> In the group who **kept** their appointments, patients **not on** welfare had slightly better attendance than those in the same group who were **on** welfare. The trend is also true in the group who **missed** their appointments. \n",
    ">\n",
    ">One would be inclined to assume welfare award is a (somewhat) significant influence on attendance probability, but in this case, the data is indicating otherwise!    \n",
    "\n",
    "**Next**: check if medical conditions influence patients' attendence."
   ]
  },
  {
   "cell_type": "code",
   "execution_count": 38,
   "metadata": {},
   "outputs": [
    {
     "data": {
      "text/plain": [
       "No     0.826972\n",
       "Yes    0.173028\n",
       "Name: NoShow, dtype: float64"
      ]
     },
     "execution_count": 38,
     "metadata": {},
     "output_type": "execute_result"
    }
   ],
   "source": [
    "# find attendance probability for those with hypertension condition\n",
    "hpP = CondNoShowProb(df,'Hypertension',1)\n",
    "hpP"
   ]
  },
  {
   "cell_type": "code",
   "execution_count": 39,
   "metadata": {},
   "outputs": [
    {
     "data": {
      "text/plain": [
       "No     0.790971\n",
       "Yes    0.209029\n",
       "Name: NoShow, dtype: float64"
      ]
     },
     "execution_count": 39,
     "metadata": {},
     "output_type": "execute_result"
    }
   ],
   "source": [
    "# find attendance probability for those without hypertension condition\n",
    "hpPx = CondNoShowProb(df,'Hypertension',0)\n",
    "hpPx"
   ]
  },
  {
   "cell_type": "code",
   "execution_count": 40,
   "metadata": {},
   "outputs": [
    {
     "data": {
      "text/plain": [
       "No     0.819967\n",
       "Yes    0.180033\n",
       "Name: NoShow, dtype: float64"
      ]
     },
     "execution_count": 40,
     "metadata": {},
     "output_type": "execute_result"
    }
   ],
   "source": [
    "# find attendance probability for those with diabetes condition\n",
    "diP = CondNoShowProb(df,'Diabetes',1)\n",
    "diP"
   ]
  },
  {
   "cell_type": "code",
   "execution_count": 41,
   "metadata": {},
   "outputs": [
    {
     "data": {
      "text/plain": [
       "No     0.796377\n",
       "Yes    0.203623\n",
       "Name: NoShow, dtype: float64"
      ]
     },
     "execution_count": 41,
     "metadata": {},
     "output_type": "execute_result"
    }
   ],
   "source": [
    "# find attendance probability for those without diabetes condition\n",
    "diPx = CondNoShowProb(df,'Diabetes',0)\n",
    "diPx"
   ]
  },
  {
   "cell_type": "code",
   "execution_count": 42,
   "metadata": {},
   "outputs": [
    {
     "data": {
      "text/plain": [
       "No     0.798512\n",
       "Yes    0.201488\n",
       "Name: NoShow, dtype: float64"
      ]
     },
     "execution_count": 42,
     "metadata": {},
     "output_type": "execute_result"
    }
   ],
   "source": [
    "# find attendance probability for those with alcoholism condition\n",
    "alP = CondNoShowProb(df,'Alcoholism',1)\n",
    "alP"
   ]
  },
  {
   "cell_type": "code",
   "execution_count": 43,
   "metadata": {},
   "outputs": [
    {
     "data": {
      "text/plain": [
       "No     0.798059\n",
       "Yes    0.201941\n",
       "Name: NoShow, dtype: float64"
      ]
     },
     "execution_count": 43,
     "metadata": {},
     "output_type": "execute_result"
    }
   ],
   "source": [
    "# find attendance probability for those without alcoholism condition\n",
    "alPx = CondNoShowProb(df,'Alcoholism',0)\n",
    "alPx"
   ]
  },
  {
   "cell_type": "code",
   "execution_count": 44,
   "metadata": {},
   "outputs": [
    {
     "data": {
      "text/plain": [
       "No     0.819239\n",
       "Yes    0.180761\n",
       "Name: NoShow, dtype: float64"
      ]
     },
     "execution_count": 44,
     "metadata": {},
     "output_type": "execute_result"
    }
   ],
   "source": [
    "# find attendance probability for those with handicap condition\n",
    "hdP = CondNoShowProb(df,'Handicap',1)\n",
    "hdP"
   ]
  },
  {
   "cell_type": "code",
   "execution_count": 45,
   "metadata": {},
   "outputs": [
    {
     "data": {
      "text/plain": [
       "No     0.797636\n",
       "Yes    0.202364\n",
       "Name: NoShow, dtype: float64"
      ]
     },
     "execution_count": 45,
     "metadata": {},
     "output_type": "execute_result"
    }
   ],
   "source": [
    "# find attendance probability for those without handicap condition\n",
    "hdPx = CondNoShowProb(df,'Handicap',0)\n",
    "hdPx"
   ]
  },
  {
   "cell_type": "code",
   "execution_count": 46,
   "metadata": {},
   "outputs": [
    {
     "data": {
      "text/html": [
       "<div>\n",
       "<style scoped>\n",
       "    .dataframe tbody tr th:only-of-type {\n",
       "        vertical-align: middle;\n",
       "    }\n",
       "\n",
       "    .dataframe tbody tr th {\n",
       "        vertical-align: top;\n",
       "    }\n",
       "\n",
       "    .dataframe thead th {\n",
       "        text-align: right;\n",
       "    }\n",
       "</style>\n",
       "<table border=\"1\" class=\"dataframe\">\n",
       "  <thead>\n",
       "    <tr style=\"text-align: right;\">\n",
       "      <th></th>\n",
       "      <th>No</th>\n",
       "      <th>Yes</th>\n",
       "    </tr>\n",
       "  </thead>\n",
       "  <tbody>\n",
       "    <tr>\n",
       "      <th>Hipertension</th>\n",
       "      <td>0.826972</td>\n",
       "      <td>0.173028</td>\n",
       "    </tr>\n",
       "    <tr>\n",
       "      <th>No Hipertension</th>\n",
       "      <td>0.790971</td>\n",
       "      <td>0.209029</td>\n",
       "    </tr>\n",
       "    <tr>\n",
       "      <th>Diabetes</th>\n",
       "      <td>0.819967</td>\n",
       "      <td>0.180033</td>\n",
       "    </tr>\n",
       "    <tr>\n",
       "      <th>No Diabetes</th>\n",
       "      <td>0.796377</td>\n",
       "      <td>0.203623</td>\n",
       "    </tr>\n",
       "    <tr>\n",
       "      <th>Alcoholism</th>\n",
       "      <td>0.798512</td>\n",
       "      <td>0.201488</td>\n",
       "    </tr>\n",
       "    <tr>\n",
       "      <th>No Alcoholism</th>\n",
       "      <td>0.798059</td>\n",
       "      <td>0.201941</td>\n",
       "    </tr>\n",
       "    <tr>\n",
       "      <th>Handicap</th>\n",
       "      <td>0.819239</td>\n",
       "      <td>0.180761</td>\n",
       "    </tr>\n",
       "    <tr>\n",
       "      <th>No Handicap</th>\n",
       "      <td>0.797636</td>\n",
       "      <td>0.202364</td>\n",
       "    </tr>\n",
       "  </tbody>\n",
       "</table>\n",
       "</div>"
      ],
      "text/plain": [
       "                       No       Yes\n",
       "Hipertension     0.826972  0.173028\n",
       "No Hipertension  0.790971  0.209029\n",
       "Diabetes         0.819967  0.180033\n",
       "No Diabetes      0.796377  0.203623\n",
       "Alcoholism       0.798512  0.201488\n",
       "No Alcoholism    0.798059  0.201941\n",
       "Handicap         0.819239  0.180761\n",
       "No Handicap      0.797636  0.202364"
      ]
     },
     "execution_count": 46,
     "metadata": {},
     "output_type": "execute_result"
    }
   ],
   "source": [
    "# build a dataframe to represent the pandas series of the 4 medical condition \n",
    "dff = pd.DataFrame([hpP,hpPx,\n",
    "                    diP,diPx,\n",
    "                    alP,alPx,\n",
    "                    hdP,hdPx],\n",
    "                   index=['Hipertension','No Hipertension',\n",
    "                          'Diabetes','No Diabetes',\n",
    "                          'Alcoholism','No Alcoholism',\n",
    "                          'Handicap','No Handicap'])\n",
    "dff"
   ]
  },
  {
   "cell_type": "code",
   "execution_count": 47,
   "metadata": {},
   "outputs": [
    {
     "data": {
      "image/png": "[encoded data removed]",
      "text/plain": [
       "<Figure size 432x288 with 1 Axes>"
      ]
     },
     "metadata": {
      "needs_background": "light"
     },
     "output_type": "display_data"
    }
   ],
   "source": [
    "# Plotting the result\n",
    "dff.plot.barh()\n",
    "plt.xlim(0.0, 1.0)\n",
    "plt.title('Medical Conditions on Attendance Probability')\n",
    "plt.xlabel(\"Probability\")\n",
    "plt.ylabel(\"Medical conditions\")\n",
    "plt.legend(['Show','No Show'], loc='center',bbox_to_anchor=(0.5, 0.55));"
   ]
  },
  {
   "cell_type": "markdown",
   "metadata": {},
   "source": [
    "#### Conclusion of Medical conditions impact on attendance\n",
    "\n",
    "> In the **kept the appointment** group, patients who suffered from the 4 listed medical conditions had roughly the same attendance probability as their peers in the same group who did not have the same medical conditions. The trend is similar among those in the **missed the appointment** group who did/didn't have the conditions.\n",
    ">\n",
    "> Again, here the data indicates a different trend than one that most would have typically assumed is true, i.e. patients with medical conditions would be more likely to keep/miss their appointments than their counterparts who were free of the same conditions. An **interesting finding indeed!**    "
   ]
  },
  {
   "cell_type": "markdown",
   "metadata": {},
   "source": [
    "<a id='Q3'></a>\n",
    "### Research Question 3  - geographical factor impacting appointment attendance\n",
    " * What is the effect of hospital locations on patients keeping/missing their appointments?\n",
    " \n",
    " > Let's examine patient attendance ratio in each neighbourhood to see if certain locations had higher/lower attendence trends compare with nation wide average attendance ratio."
   ]
  },
  {
   "cell_type": "code",
   "execution_count": 48,
   "metadata": {},
   "outputs": [
    {
     "data": {
      "text/html": [
       "<div>\n",
       "<style scoped>\n",
       "    .dataframe tbody tr th:only-of-type {\n",
       "        vertical-align: middle;\n",
       "    }\n",
       "\n",
       "    .dataframe tbody tr th {\n",
       "        vertical-align: top;\n",
       "    }\n",
       "\n",
       "    .dataframe thead th {\n",
       "        text-align: right;\n",
       "    }\n",
       "</style>\n",
       "<table border=\"1\" class=\"dataframe\">\n",
       "  <thead>\n",
       "    <tr style=\"text-align: right;\">\n",
       "      <th>NoShow</th>\n",
       "      <th>No</th>\n",
       "      <th>Yes</th>\n",
       "    </tr>\n",
       "    <tr>\n",
       "      <th>Locality</th>\n",
       "      <th></th>\n",
       "      <th></th>\n",
       "    </tr>\n",
       "  </thead>\n",
       "  <tbody>\n",
       "    <tr>\n",
       "      <th>AEROPORTO</th>\n",
       "      <td>7.0</td>\n",
       "      <td>1.0</td>\n",
       "    </tr>\n",
       "    <tr>\n",
       "      <th>ANDORINHAS</th>\n",
       "      <td>1740.0</td>\n",
       "      <td>518.0</td>\n",
       "    </tr>\n",
       "    <tr>\n",
       "      <th>ANTÔNIO HONÓRIO</th>\n",
       "      <td>220.0</td>\n",
       "      <td>50.0</td>\n",
       "    </tr>\n",
       "    <tr>\n",
       "      <th>ARIOVALDO FAVALESSA</th>\n",
       "      <td>220.0</td>\n",
       "      <td>62.0</td>\n",
       "    </tr>\n",
       "    <tr>\n",
       "      <th>BARRO VERMELHO</th>\n",
       "      <td>332.0</td>\n",
       "      <td>91.0</td>\n",
       "    </tr>\n",
       "    <tr>\n",
       "      <th>BELA VISTA</th>\n",
       "      <td>1523.0</td>\n",
       "      <td>384.0</td>\n",
       "    </tr>\n",
       "  </tbody>\n",
       "</table>\n",
       "</div>"
      ],
      "text/plain": [
       "NoShow                   No    Yes\n",
       "Locality                          \n",
       "AEROPORTO               7.0    1.0\n",
       "ANDORINHAS           1740.0  518.0\n",
       "ANTÔNIO HONÓRIO       220.0   50.0\n",
       "ARIOVALDO FAVALESSA   220.0   62.0\n",
       "BARRO VERMELHO        332.0   91.0\n",
       "BELA VISTA           1523.0  384.0"
      ]
     },
     "execution_count": 48,
     "metadata": {},
     "output_type": "execute_result"
    }
   ],
   "source": [
    "# Find attendance ratios for both show and no show groups (unstack NoShow)\n",
    "ldf=df.groupby(['Locality','NoShow']).count().SmsRmdr.unstack('NoShow')\n",
    "ldf.head(6)"
   ]
  },
  {
   "cell_type": "code",
   "execution_count": 49,
   "metadata": {},
   "outputs": [
    {
     "data": {
      "text/plain": [
       "NoShow\n",
       "No     1\n",
       "Yes    1\n",
       "dtype: int64"
      ]
     },
     "execution_count": 49,
     "metadata": {},
     "output_type": "execute_result"
    }
   ],
   "source": [
    "# unstack operation introduces a NaN row\n",
    "ldf.isnull().sum()"
   ]
  },
  {
   "cell_type": "code",
   "execution_count": 50,
   "metadata": {},
   "outputs": [
    {
     "data": {
      "text/plain": [
       "NoShow\n",
       "No     0\n",
       "Yes    0\n",
       "dtype: int64"
      ]
     },
     "execution_count": 50,
     "metadata": {},
     "output_type": "execute_result"
    }
   ],
   "source": [
    "# fill the NaN row with a value of 0\n",
    "ldf.fillna(0, axis=0, inplace=True)\n",
    "ldf.isnull().sum()"
   ]
  },
  {
   "cell_type": "code",
   "execution_count": 51,
   "metadata": {},
   "outputs": [
    {
     "data": {
      "text/html": [
       "<div>\n",
       "<style scoped>\n",
       "    .dataframe tbody tr th:only-of-type {\n",
       "        vertical-align: middle;\n",
       "    }\n",
       "\n",
       "    .dataframe tbody tr th {\n",
       "        vertical-align: top;\n",
       "    }\n",
       "\n",
       "    .dataframe thead th {\n",
       "        text-align: right;\n",
       "    }\n",
       "</style>\n",
       "<table border=\"1\" class=\"dataframe\">\n",
       "  <thead>\n",
       "    <tr style=\"text-align: right;\">\n",
       "      <th>NoShow</th>\n",
       "      <th>No</th>\n",
       "      <th>Yes</th>\n",
       "    </tr>\n",
       "    <tr>\n",
       "      <th>Locality</th>\n",
       "      <th></th>\n",
       "      <th></th>\n",
       "    </tr>\n",
       "  </thead>\n",
       "  <tbody>\n",
       "    <tr>\n",
       "      <th>AEROPORTO</th>\n",
       "      <td>0.875000</td>\n",
       "      <td>0.125000</td>\n",
       "    </tr>\n",
       "    <tr>\n",
       "      <th>ANDORINHAS</th>\n",
       "      <td>0.770593</td>\n",
       "      <td>0.229407</td>\n",
       "    </tr>\n",
       "    <tr>\n",
       "      <th>ANTÔNIO HONÓRIO</th>\n",
       "      <td>0.814815</td>\n",
       "      <td>0.185185</td>\n",
       "    </tr>\n",
       "    <tr>\n",
       "      <th>ARIOVALDO FAVALESSA</th>\n",
       "      <td>0.780142</td>\n",
       "      <td>0.219858</td>\n",
       "    </tr>\n",
       "    <tr>\n",
       "      <th>BARRO VERMELHO</th>\n",
       "      <td>0.784870</td>\n",
       "      <td>0.215130</td>\n",
       "    </tr>\n",
       "    <tr>\n",
       "      <th>BELA VISTA</th>\n",
       "      <td>0.798637</td>\n",
       "      <td>0.201363</td>\n",
       "    </tr>\n",
       "  </tbody>\n",
       "</table>\n",
       "</div>"
      ],
      "text/plain": [
       "NoShow                     No       Yes\n",
       "Locality                               \n",
       "AEROPORTO            0.875000  0.125000\n",
       "ANDORINHAS           0.770593  0.229407\n",
       "ANTÔNIO HONÓRIO      0.814815  0.185185\n",
       "ARIOVALDO FAVALESSA  0.780142  0.219858\n",
       "BARRO VERMELHO       0.784870  0.215130\n",
       "BELA VISTA           0.798637  0.201363"
      ]
     },
     "execution_count": 51,
     "metadata": {},
     "output_type": "execute_result"
    }
   ],
   "source": [
    "# Express the counts for both groups in percentage\n",
    "ldfp = ldf.apply(lambda x: x/(x['No']+x['Yes']), axis=1)\n",
    "ldfp.head(6)"
   ]
  },
  {
   "cell_type": "code",
   "execution_count": 52,
   "metadata": {},
   "outputs": [
    {
     "data": {
      "text/plain": [
       "0.7980726598199339"
      ]
     },
     "execution_count": 52,
     "metadata": {},
     "output_type": "execute_result"
    }
   ],
   "source": [
    "# find the average attendance percentage nation wide \n",
    "avgShowPct = (df.groupby(['NoShow'])['Locality'].count() / df.NoShow.count())[0] \n",
    "avgShowPct"
   ]
  },
  {
   "cell_type": "code",
   "execution_count": 53,
   "metadata": {},
   "outputs": [
    {
     "data": {
      "text/plain": [
       "0.20192734018006606"
      ]
     },
     "execution_count": 53,
     "metadata": {},
     "output_type": "execute_result"
    }
   ],
   "source": [
    "# find the average abscence percentage nation wide\n",
    "avgNoShowPct = (df.groupby(['NoShow'])['Locality'].count() / df.NoShow.count())[1]\n",
    "avgNoShowPct"
   ]
  },
  {
   "cell_type": "code",
   "execution_count": 54,
   "metadata": {},
   "outputs": [
    {
     "data": {
      "image/png": "[encoded data removed]",
      "text/plain": [
       "<Figure size 1080x1440 with 1 Axes>"
      ]
     },
     "metadata": {
      "needs_background": "light"
     },
     "output_type": "display_data"
    }
   ],
   "source": [
    "# plot the result\n",
    "ldfp.plot.barh(figsize=(15,20))\n",
    "plt.ylabel('Neighborhood',fontsize=30)\n",
    "plt.xlabel('Attendance Probability',fontsize=30)\n",
    "plt.legend(['Show','No Show'], fontsize='large')\n",
    "plt.axvline(avgShowPct, color='steelblue', linestyle='--')\n",
    "plt.axvline(avgNoShowPct, color='orange', linestyle='--');\n",
    "plt.show();"
   ]
  },
  {
   "cell_type": "markdown",
   "metadata": {},
   "source": [
    "#### Conclusion of hospital geographical locations on attendence/absentee trends\n",
    "\n",
    "> Several findings are apparent from this graph:  \n",
    "> * Two geographical location groups, representing patients **who kept** and **who missed** their appointments respectively, are presented. The former group has a national average **show-up** ratio of ~80%, while the latter, a national average **no-show** ratio of ~20%. \n",
    ">\n",
    ">\n",
    "> * In the graph, PARQUE INDUSTRIAL location didn't record any **no-show** count, whereas ILHAS OCEÂNICAS DE TRINDADE, zero **show-up** count. Hence, both appear to have 100% **show-up** and **no-show** ratios respectively.\n",
    ">\n",
    ">\n",
    "> * The **show-up** ratios of patients in the **kept the appointment** group in most locations are in line with the group's national average **show-up** ratio. Notable exceptions above national average are ILHA DO BOI, DO QUADRO, DO CABRAL, DE LOURDES and AEROPORTO. Whereas SANTOS DUMONT, SANTA CLARA, SANTA CECÍLIA, JESUS DE NAZARETH, ITARARÉ, ILHA DO PRÍNCIPE, HORTO, CARATOÍRA, BENTO FERREIRA, ANDORINHAS and AEROPORTO, below national average.\n",
    ">\n",
    ">\n",
    "> * The **no-show** ratios of patients in the **missed the appointment** group in most locations are in line with the group's national average **no-show** ratio. Notable exceptions above national average are SANTOS DUMONT, SANTA CLARA, SANTA CECÍLIA, JESUS DE NAZARETH, ITARARÉ, HORTO and CARATOÍRA. Whereas VILA LUBIM, SOLON BORGES, SANTA MARTHA, REPÚBLICA, REDENÇÃO, PONTAL DE CAMBURI, MÁRIO CYPRESTE, JARDIM DA PENHA, ILHA DO BOI and AEROPORTO, below national average.\n",
    "\n"
   ]
  },
  {
   "cell_type": "markdown",
   "metadata": {},
   "source": [
    "<a id='conclusions'></a>\n",
    "## Conclusions\n",
    "### Summary findings of the 3 research questions:\n",
    "<a id='Q1'></a>\n",
    "### Research Question 1 - generic factors impacting appointment attendance\n",
    "* Influence of gender, age, SMS reminder on patients missing their appointments\n",
    ">\n",
    "> gender appears to be a neutral factor in influencing attendance probability\n",
    ">\n",
    "> The general trend for attendance is upward with age. However, ages between 15 and 25 have lowest attendance rates below the regression line. Attendence rates start to rise above regression line from around age 47 till 80. After that, attendance rates start to drop again from age 80 till 100.\n",
    ">\n",
    "> SMS reminder appears not to be a significant influence on attendance among patients who kept their appointments. However, in the group who **missed** their appointments, recipients of SMS reminders were roughly twice as likely to be a no-show than those in the same group that didn't get SMS reminders.\n",
    ">\n",
    "\n",
    "<a id='Q2'></a>\n",
    "### Research Question 2  - social factors impacting appointment attendance\n",
    " * Were welfare recipients more likely to keep their appointments?\n",
    " * Were patients with medical conditions more likely to keep their appointments?\n",
    ">\n",
    "> In the group who **kept** their appointments, patients **not on** welfare had slightly better attendance than those in the same group who were **on** welfare. The trend is also true in the group who **missed** their appointments.\n",
    ">\n",
    "> In the **kept the appointment** group, patients who suffered from the 4 listed medical conditions had roughly the same attendance probability as their peers in the same group who did not have the same medical conditions. The trend is similar among those in the **missed the appointment** group who did/didn't have the conditions.\n",
    ">\n",
    "\n",
    "<a id='Q3'></a>\n",
    "### Research Question 3  - geographical factor impacting appointment attendance\n",
    " * What is the effect of hospital locations on patients keeping/missing their appointments?\n",
    "> * Two geographical location (**kept** and **missed** appointment) groups each has a national average **show-up** and **no-show** ratios of ~80% and ~20%, respectively. \n",
    ">\n",
    ">\n",
    ">\n",
    "> * One location (PARQUE INDUSTRIAL) has no **no-show** count, and the other (ILHAS OCEÂNICAS DE TRINDADE) no **show-up** count. Leading to both appear to have 100% **show-up** and **no-show** ratios respectively.\n",
    ">\n",
    ">\n",
    ">\n",
    "> * The **show-up** ratios of patients in the **kept the appointment** group in most locations are in line with the group's national average **show-up** ratio. There are notable exceptions in both above and below national average camps.\n",
    ">\n",
    ">\n",
    ">\n",
    "> * The **no-show** ratios of patients in the **missed the appointment** group in most locations are in line with the group's national average **no-show** ratio. There are notable exceptions in both above and below national average camps. \n",
    "\n",
    "\n",
    "\n",
    "## Limitation\n",
    "* The scope of this project implies no deep statistical tests were performed in producing this analysis report. Thus, the causality of the analyzed factors on patients' behaviours is limited. \n",
    "\n",
    "\n",
    "* The correlations between the analyzed data elements presented in this report were deduced from simplistic perspectives of the provided dataset (albeit NumPy/Pandas functionality that goes beyond what was covered in the course was utilized to perform data analysis where appropriate). \n",
    "\n",
    "\n",
    "* Visual presentation of results in this analysis report is confined to commonly used Matplotlib and Seaborn functionality (albeit with more than 2 kinds of plots created).     "
   ]
  },
  {
   "cell_type": "markdown",
   "metadata": {},
   "source": [
    "# References\n",
    "\n",
    "### DAND Introduction to Data Analysis \n",
    "[Lesson 3 : The Data Analysis Process](https://youtu.be/Ae_UOATWmDM)\n",
    "\n",
    "[Lesson 4 : Data Analysis Process - Case Study 1](https://youtu.be/Ui1rF6McOBA)\n",
    "\n",
    "[Lesson 5 : Data Analysis Process - Case Study 2](https://youtu.be/u_qB4w4kL1o)\n",
    "\n",
    "\n",
    "\n",
    "### Python, Pandas, Matplotlib, Seaborn & Miscellaneous \n",
    "[pandas - Select from MultiIndex by Level | pandas Tutorial](https://riptutorial.com/pandas/example/13285/select-from-multiindex-by-level)\n",
    "\n",
    "[How to convert the multi index series into a Data frame in python? - tools - Data Science, Analytics and Big Data discussions](https://discuss.analyticsvidhya.com/t/how-to-convert-the-multi-index-series-into-a-data-frame-in-python/5119/2)\n",
    "\n",
    "[matplotlib - How to control the legend in Seaborn - Python - Stack Overflow](https://stackoverflow.com/questions/47542104/how-to-control-the-legend-in-seaborn-python)\n",
    "\n",
    "[python - Why plt.figure(figsize=(w,h)) has no effect on df.barh() but plt.rcParams['figure.figsize'] = [w,h] does? - Stack Overflow](https://stackoverflow.com/questions/55062657/why-plt-figurefigsize-w-h-has-no-effect-on-df-barh-but-plt-rcparamsfigur)\n",
    "\n",
    "[mwaskom/seaborn-data: Data repository for seaborn examples](https://github.com/mwaskom/seaborn-data)"
   ]
  }
 ],
 "metadata": {
  "kernelspec": {
   "display_name": "Python 3",
   "language": "python",
   "name": "python3"
  },
  "language_info": {
   "codemirror_mode": {
    "name": "ipython",
    "version": 3
   },
   "file_extension": ".py",
   "mimetype": "text/x-python",
   "name": "python",
   "nbconvert_exporter": "python",
   "pygments_lexer": "ipython3",
   "version": "3.6.8"
  }
 },
 "nbformat": 4,
 "nbformat_minor": 2
}
