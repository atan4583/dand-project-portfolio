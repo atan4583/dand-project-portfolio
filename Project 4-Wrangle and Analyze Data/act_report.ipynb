{
 "cells": [
  {
   "cell_type": "markdown",
   "metadata": {},
   "source": [
    "# Data Insight and Visualization Report\n",
    "\n",
    " ---\n",
    "# <center>~ Insights and Visualization from Wrangled Twitter Data ~</center>\n",
    "# <center>Audrey S Tan </center>\n",
    "# <center>April, 2019 </center>\n",
    "\n",
    "### Overview\n",
    "With the cleansed dataset created from gathering twitter data pertaining to the popular WeRateDogs dog [[ref 1](https://en.wikipedia.org/wiki/WeRateDogs)] rating provider on Twitter, I analyzed and produced the following insights and visualizations:\n",
    "\n",
    "1) correlation between favorite and retweet counts.\n",
    "\n",
    "2) the trend of favorite and retweet counts with respect to time and classification of dog species. \n",
    "\n",
    "3) performance of the dog image classifier.\n",
    "\n",
    " ---"
   ]
  },
  {
   "cell_type": "markdown",
   "metadata": {},
   "source": [
    "### Correlation between favorite counts and retweet counts\n",
    "\n",
    "#### favorite counts and retweet counts have a positive correlation. The intensity of the counts is heavily concentrated from the begining up to 40k favorite counts, with the counts largely below the regression line.\n",
    "\n",
    "<img src='fav_vs_retwt_cnt.png' alt='fav_vs_retwt_cnt.png'>"
   ]
  },
  {
   "cell_type": "markdown",
   "metadata": {},
   "source": [
    "### Favorite and retweet counts trends with respect to time period (Nov 2015 to Aug 2017)  \n",
    "\n",
    "#### From the begining till 2016-04, the intensity of both favorite and retweet counts is similar, although favorite counts are higher than retweet counts. This trend is even more conspicuous with the progression of time, with favorite counts steadily rising above retweet counts from around 2016-09. Interestingly, the bulk of retweet counts remains below 10k. \n",
    "\n",
    "<img src='fav_Retwt_cnt.png' alt='fav_Retwt_cnt.png'>"
   ]
  },
  {
   "cell_type": "markdown",
   "metadata": {},
   "source": [
    "### Favorite and retweet counts trends with respect to dog species by the image prediction classifier\n",
    "\n",
    "#### Among the three speicies, both favorite and retweet counts have a positive correlation. The bulk of tweets is mainly from the species of `dog` and `hybrid`, which is in line with their respective species counts - 1194 dog and 472 hybrid. \n",
    "\n",
    "<img src='dog_species.png' alt='dog_species.png'>  \n",
    "<img src='fav_Retwt_cnt_dogclass.png' alt='fav_Retwt_cnt_dogclass.png'>\n",
    "\n",
    "#### Given WeRateDogs is all about dogs, it is unconvincing there are tweets about  `hybrid` and `not dog` species classified by the neural network dog breed classifier, which led us to take a look at the performance of the classifier next. "
   ]
  },
  {
   "cell_type": "markdown",
   "metadata": {},
   "source": [
    "### Performance of the dog image classifer\n",
    "\n",
    "#### First, gathered some descriptive statistics on rating, favorite, retweet counts and the top 3 model confident predictions.\n",
    "\n",
    "<img src='DogDescStats.png' alt='DogDescStats.png'>\n",
    "\n",
    "#### Next, take a look at the top 10 dog ratings and breeds\n",
    "<img src='top10_dog_rating.png' alt='top10_dog_rating.png' width=500px> \n",
    "<img src='top10_dog_breeds.png' alt='top10_dog_breeds.png' width=500px>\n",
    "\n",
    "#### From the descriptive statistics, we checked the recipients of the highest \n",
    "> ####  *favorite counts 132810.0*\n",
    "> ####  *retweet counts 79515.0* \n",
    "> ####  *p1 prediction confidence of 1.0*\n",
    "\n",
    "#### then got their pictures from Twitter site.\n",
    "\n",
    "##### The highest favorite counts recipient is:\n",
    "<img src='fav_cnt.png' alt='fav_cnt.png'>\n",
    "\n",
    "##### It's a dog (Labrador Retriever) with no name and a p1 prediction 0.196015 and looks like this ...\n",
    "<img src='topfav.png' alt='topfav.png'>\n",
    "\n",
    "##### The highest retweet counts recipient is:\n",
    "<img src='retwt_cnt.png' alt='retwt_cnt.png'>\n",
    "\n",
    "##### It's a hybrid (Labrador Retriever) with no name and a p1 prediction 0.825333 and looks like this ...\n",
    "<img src='topRetwt.png' alt='topRetwt.png'>\n",
    "\n",
    "##### The highest p1 prediction confidence (1.0) recipient is:\n",
    "<img src='p1_conf.png' alt='p1_conf.png'>\n",
    "\n",
    "##### It's `not dog` named Shaggy (Spanish Water Dog) and a p1 prediction 1.0 and looks like this ...\n",
    "<img src='topP1Conf.png' alt='topP1Conf.png'>\n",
    "\n",
    "#### So what is performance of the image classifier afterall ?\n",
    "\n",
    "##### Well, the `dog` and `hybrid` share the same rating of 13 while the `not dog` has a rating of 10, which rank 4th and 2nd respectively in the top 10 dog ratings. Both the `dog` and `hybrid` are actually Labrador Retriever which ranks 3rd in the top 10 dog breeds. The `not dog` was misclassified but is actually a Spanish Water Dog, though the breed is not among the top 10 dog breeds. \n",
    "\n",
    "##### So of the 1971 entries in the `twitter_archive_master` dataset, 305 entries were misclassified as `not dog`, 472 as `hybrid` (i.e. `may be dog`). Only 1194 were correctly classified as `dog` yet none attains the highest p1 predection of 1. Ironically, the `not dog` has the highest prediction confidence of 1. \n",
    "\n",
    "##### The numbers represent a 60.58% (=1194/1971 x 100%) chance the model correctly identifies a dog as a dog. Obviously, the model has more room for improvement. "
   ]
  }
 ],
 "metadata": {
  "kernelspec": {
   "display_name": "Python (dand)",
   "language": "python",
   "name": "dand"
  },
  "language_info": {
   "codemirror_mode": {
    "name": "ipython",
    "version": 3
   },
   "file_extension": ".py",
   "mimetype": "text/x-python",
   "name": "python",
   "nbconvert_exporter": "python",
   "pygments_lexer": "ipython3",
   "version": "3.6.8"
  }
 },
 "nbformat": 4,
 "nbformat_minor": 2
}
